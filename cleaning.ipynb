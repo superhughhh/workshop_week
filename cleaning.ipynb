{
 "cells": [
  {
   "cell_type": "code",
   "execution_count": 41,
   "metadata": {},
   "outputs": [],
   "source": [
    "import pandas as pd\n",
    "import re"
   ]
  },
  {
   "cell_type": "code",
   "execution_count": 42,
   "metadata": {},
   "outputs": [],
   "source": [
    "df = pd.read_csv(\"/Users/admin/Desktop/repo/maison-pariès/etude_client_1191.csv\", index_col=0)\n",
    "df = df.rename(columns={'A quelle fréquence venez-vous nous rendre visite ?': 'frequence', \n",
    "                        'Depuis combien de temps êtes vous un client de la Maison Pariès ?': 'anciennete',\n",
    "                        \"Tranche d'âge\" : \"age\",\n",
    "                        \"Quel est le produit que vous préférez ?\" : \"produit_prefere\", \n",
    "                        \"Quelle est votre catégorie socio-professionnelle ?\" : \"socio_pro\",\n",
    "                        \"Comment nous avez-vous connus ?\" : \"conversion\",\n",
    "                        \"de combien de personnes se compose votre foyer ?\" : \"foyer\",\n",
    "                        \"Où achetez-vous nos produits ?\" : 'lieu_achat',\n",
    "                        \"Si vous n'êtes pas de la région, aimeriez-vous pouvoir trouver nos produits à proximité de votre domicile ?\" : \"target_2_boutique_local\"\n",
    "                        })"
   ]
  },
  {
   "cell_type": "code",
   "execution_count": 43,
   "metadata": {},
   "outputs": [
    {
     "data": {
      "text/plain": [
       "Index(['Horodateur', 'Boutique', 'code postal', 'anciennete', 'frequence',\n",
       "       'conversion', 'En 2 mots, comment définiriez-vous la Maison ?',\n",
       "       'A quelle(s) occasion(s) effectuez-vous des achats chez nous',\n",
       "       'produit_prefere',\n",
       "       'Quel est le dernier produit de la gamme Pariès que vous connaissez ?',\n",
       "       '8. Quels sont les produits de nos gammes que vous achetez chez d’autres artisans ?',\n",
       "       'Pourquoi ?', 'lieu_achat',\n",
       "       'Avez-vous déjà eu l’occasion de commander nos produits sur notre site en ligne ?',\n",
       "       'target_2_boutique_local', 'Pourquoi ?.1',\n",
       "       'Que devons-nous faire pour progresser ?',\n",
       "       '14. Dans les grandes évolutions de la consommation, quelles sont les 3 qui vous tiennent le plus à cœur ?',\n",
       "       'Sexe', 'socio_pro', 'age', 'foyer',\n",
       "       'S'il y a des enfants dans votre foyer, quel âge ont-ils ?',\n",
       "       'Êtes-vous abonné à notre newsletter ?',\n",
       "       'Si non, confiez-moi votre adresse mail pour recevoir notre actualité (moins de 10 mails par an)'],\n",
       "      dtype='object')"
      ]
     },
     "execution_count": 43,
     "metadata": {},
     "output_type": "execute_result"
    }
   ],
   "source": [
    "df.columns"
   ]
  },
  {
   "cell_type": "code",
   "execution_count": 44,
   "metadata": {},
   "outputs": [
    {
     "name": "stderr",
     "output_type": "stream",
     "text": [
      "/var/folders/rw/3l7m_pl90hgbgv97f87910n00000gn/T/ipykernel_1801/2803237770.py:15: SettingWithCopyWarning: \n",
      "A value is trying to be set on a copy of a slice from a DataFrame.\n",
      "Try using .loc[row_indexer,col_indexer] = value instead\n",
      "\n",
      "See the caveats in the documentation: https://pandas.pydata.org/pandas-docs/stable/user_guide/indexing.html#returning-a-view-versus-a-copy\n",
      "  df_bordeaux[\"client\"] = df['code postal'].apply(touriste_33)\n",
      "/var/folders/rw/3l7m_pl90hgbgv97f87910n00000gn/T/ipykernel_1801/2803237770.py:16: SettingWithCopyWarning: \n",
      "A value is trying to be set on a copy of a slice from a DataFrame.\n",
      "Try using .loc[row_indexer,col_indexer] = value instead\n",
      "\n",
      "See the caveats in the documentation: https://pandas.pydata.org/pandas-docs/stable/user_guide/indexing.html#returning-a-view-versus-a-copy\n",
      "  df_basque[\"client\"] = df['code postal'].apply(touriste_64)\n"
     ]
    }
   ],
   "source": [
    "def touriste_33(x):\n",
    "    if re.search(\"^33\", x):\n",
    "        return \"local\"\n",
    "    else:\n",
    "        return \"touriste\"\n",
    "    \n",
    "def touriste_64(x):\n",
    "    if re.search(\"^64\", x):\n",
    "        return \"local\"\n",
    "    else:\n",
    "        return \"touriste\"\n",
    "\n",
    "df_bordeaux = df[df['Boutique'] == \"Bordeaux\"]\n",
    "df_basque = df[df['Boutique'] != \"Bordeaux\"]\n",
    "df_bordeaux[\"client\"] = df['code postal'].apply(touriste_33)\n",
    "df_basque[\"client\"] = df['code postal'].apply(touriste_64)\n",
    "df_recons = pd.concat([df_basque,df_bordeaux])\n",
    "df = df_recons"
   ]
  },
  {
   "cell_type": "code",
   "execution_count": 45,
   "metadata": {},
   "outputs": [
    {
     "name": "stdout",
     "output_type": "stream",
     "text": [
      "<class 'pandas.core.series.Series'>\n",
      "Int64Index: 1035 entries, 0 to 966\n",
      "Series name: produit_prefere\n",
      "Non-Null Count  Dtype \n",
      "--------------  ----- \n",
      "1035 non-null   object\n",
      "dtypes: object(1)\n",
      "memory usage: 16.2+ KB\n"
     ]
    },
    {
     "data": {
      "text/plain": [
       "Gateau Basque    496\n",
       "autre            420\n",
       "chocolat         119\n",
       "Name: target_produit_pref, dtype: int64"
      ]
     },
     "execution_count": 45,
     "metadata": {},
     "output_type": "execute_result"
    }
   ],
   "source": [
    "def basque_choco_autre(x):\n",
    "    if re.search(\"[Bb]asque\", x):\n",
    "        return \"Gateau Basque\"\n",
    "    elif re.search(\"[Cc]hoco\", x):\n",
    "        return 'chocolat'\n",
    "    else:\n",
    "        return \"autre\"\n",
    "    \n",
    "\n",
    "df.dropna(subset=['produit_prefere'], inplace=True)\n",
    "df['produit_prefere'].info()\n",
    "df['target_produit_pref'] = df['produit_prefere'].apply(basque_choco_autre)\n",
    "df['target_produit_pref'].value_counts()"
   ]
  },
  {
   "cell_type": "code",
   "execution_count": 46,
   "metadata": {},
   "outputs": [
    {
     "data": {
      "text/plain": [
       "array(['visite exceptionnel', 'visite régulière', 'première visite'],\n",
       "      dtype=object)"
      ]
     },
     "execution_count": 46,
     "metadata": {},
     "output_type": "execute_result"
    }
   ],
   "source": [
    "fequence_converter = { \"visite exceptionnelle\" : \"visite exceptionnel\",\n",
    "                      \"visite mensuelle\" :  \"visite régulière\",\n",
    "                      \"C'est la première fois !\" : \"première visite\",\n",
    "                      'visite hebdomadaire' : \"visite régulière\",\n",
    "                      'visite exceptionnelle; Surtout en été' : 'visite exceptionnel',\n",
    "                      'Tous les 15 jours' : \"visite régulière\",\n",
    "                      '3 fois par semaine' : \"visite régulière\",\n",
    "                      'Tous les jours' : \"visite régulière\", \n",
    "                      'Surtout en été' : \"visite exceptionnel\",\n",
    "                      \"Surtout l'été; Noël\" : \"visite exceptionnel\",\n",
    "                      'Surtout l’été' : \"visite exceptionnel\",\n",
    "                      'visite exceptionnelle, Surtout en été' : \"visite exceptionnel\",\n",
    "                      'Tous les 2 jours' : \"visite régulière\"\n",
    "                      }\n",
    "\n",
    "df = df.replace({\"frequence\": fequence_converter})\n",
    "df['frequence'].unique()"
   ]
  },
  {
   "cell_type": "code",
   "execution_count": 47,
   "metadata": {},
   "outputs": [
    {
     "data": {
      "text/plain": [
       "0      31\n",
       "1      64\n",
       "2      62\n",
       "3      33\n",
       "4      64\n",
       "       ..\n",
       "961    64\n",
       "962    33\n",
       "964    33\n",
       "965    33\n",
       "966    49\n",
       "Name: departement, Length: 1035, dtype: object"
      ]
     },
     "execution_count": 47,
     "metadata": {},
     "output_type": "execute_result"
    }
   ],
   "source": [
    "def regex_codepostal(x):\n",
    "    if x[0] in [str(i) for i in range(10)]:\n",
    "        return x[0:2]\n",
    "    else:\n",
    "        return \"étranger\"\n",
    "\n",
    "df[\"departement\"] = df['code postal'].apply(regex_codepostal)\n",
    "df[\"departement\"]"
   ]
  },
  {
   "cell_type": "code",
   "execution_count": 40,
   "metadata": {},
   "outputs": [],
   "source": [
    "df.to_csv(\"dataset_prediction.csv\")"
   ]
  }
 ],
 "metadata": {
  "kernelspec": {
   "display_name": "simplon",
   "language": "python",
   "name": "python3"
  },
  "language_info": {
   "codemirror_mode": {
    "name": "ipython",
    "version": 3
   },
   "file_extension": ".py",
   "mimetype": "text/x-python",
   "name": "python",
   "nbconvert_exporter": "python",
   "pygments_lexer": "ipython3",
   "version": "3.8.12 (default, Sep 28 2022, 15:55:27) \n[Clang 10.0.1 (clang-1001.0.46.4)]"
  },
  "orig_nbformat": 4,
  "vscode": {
   "interpreter": {
    "hash": "5ffc3325ec5109096cbaad909e2c7efe120797c08b76aeb49d9e3349cd32bd2b"
   }
  }
 },
 "nbformat": 4,
 "nbformat_minor": 2
}
