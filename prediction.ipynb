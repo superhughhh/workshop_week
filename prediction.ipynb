{
 "cells": [
  {
   "cell_type": "code",
   "execution_count": 8,
   "metadata": {},
   "outputs": [],
   "source": [
    "import pandas as pd\n",
    "import numpy as np\n",
    "import seaborn as sns\n",
    "from sklearn.compose import ColumnTransformer\n",
    "from sklearn.impute import SimpleImputer\n",
    "from sklearn.preprocessing import OneHotEncoder, MinMaxScaler\n",
    "from sklearn.model_selection import train_test_split\n",
    "from sklearn.linear_model import LinearRegression, LogisticRegression\n",
    "from sklearn.pipeline import make_pipeline\n",
    "from sklearn.compose import make_column_selector\n",
    "from sklearn.tree import DecisionTreeClassifier, plot_tree\n",
    "from sklearn.ensemble import RandomForestClassifier\n",
    "from sklearn.metrics import classification_report, confusion_matrix, classification_report"
   ]
  },
  {
   "cell_type": "code",
   "execution_count": 3,
   "metadata": {},
   "outputs": [],
   "source": [
    "df = pd.read_csv(\"dataset_prediction.csv\", index_col=0)\n",
    "df['foyer'] = df['foyer'].astype(str)\n",
    "df[\"departement\"] = df['departement'].astype(str)\n",
    "df.dropna(subset='target_2_boutique_local', inplace=True)"
   ]
  },
  {
   "attachments": {},
   "cell_type": "markdown",
   "metadata": {},
   "source": [
    "# target_1_produit_pref : chocolat, gateaux basque ou autre\n",
    "\n",
    "features potentielle : âge, foyer, client, Boutique, ancienneté, fréquence\n",
    "\n",
    "\n",
    "# target_2_boutique_local: oui/non\n",
    "\n",
    "df_touriste\n",
    "\n",
    "features potentielle : département, frequence, ancienneté, age"
   ]
  },
  {
   "cell_type": "code",
   "execution_count": 4,
   "metadata": {},
   "outputs": [],
   "source": [
    "def make_simple_pipeline(model=LinearRegression(), cat_transformer=OneHotEncoder(handle_unknown='ignore'), num_encoder=MinMaxScaler()):\n",
    "    num_transformer = make_pipeline(SimpleImputer(strategy='median'),num_encoder)\n",
    "    numerical_features = make_column_selector(dtype_include = np.number)\n",
    "    cat_features = make_column_selector(dtype_exclude = np.number)\n",
    "    preprocessing_transformer = ColumnTransformer([('num columns',num_transformer, numerical_features),('cat columns',cat_transformer, cat_features)])\n",
    "    pipeline_workflow = make_pipeline(preprocessing_transformer, model)\n",
    "    return pipeline_workflow\n",
    "\n",
    "df = df[df['client'] == 'touriste']\n",
    "y = df['target_2_boutique_local']\n",
    "X = df[['anciennete', 'frequence']]\n",
    "\n",
    "X_train, X_test, y_train, y_test = train_test_split(X, y, test_size=0.3, random_state=5)\n",
    "\n",
    "model = make_simple_pipeline(model=LogisticRegression(random_state=5))\n",
    "model.fit(X_train, y_train)\n",
    "model.score(X_test,y_test)\n",
    "y_pred = model.predict(X_test)"
   ]
  },
  {
   "cell_type": "code",
   "execution_count": 14,
   "metadata": {},
   "outputs": [
    {
     "name": "stdout",
     "output_type": "stream",
     "text": [
      "[[0.625 0.25 ]\n",
      " [0.375 0.75 ]]\n",
      "              precision    recall  f1-score   support\n",
      "\n",
      "         Non       0.62      0.24      0.34        21\n",
      "         oui       0.75      0.94      0.83        51\n",
      "\n",
      "    accuracy                           0.74        72\n",
      "   macro avg       0.69      0.59      0.59        72\n",
      "weighted avg       0.71      0.74      0.69        72\n",
      "\n"
     ]
    }
   ],
   "source": [
    "cm = confusion_matrix(y_test, y_pred, normalize=\"pred\")\n",
    "cr = classification_report(y_test, y_pred)\n",
    "print(cm)\n",
    "print(cr)"
   ]
  },
  {
   "cell_type": "code",
   "execution_count": 12,
   "metadata": {},
   "outputs": [
    {
     "data": {
      "text/plain": [
       "<AxesSubplot: >"
      ]
     },
     "execution_count": 12,
     "metadata": {},
     "output_type": "execute_result"
    },
    {
     "data": {
      "image/png": "[encoded data removed]",
      "text/plain": [
       "<Figure size 640x480 with 2 Axes>"
      ]
     },
     "metadata": {},
     "output_type": "display_data"
    }
   ],
   "source": [
    "label=['non','oui']\n",
    "sns.heatmap(cm, annot=True,yticklabels=label, xticklabels=label)\n",
    "\n",
    "#J'ai réussi à prédire correctement 62% des Oui => Vrai Negatif\n",
    "#Je n'ai pas rréussi à prédire correctement 38% des Oui => Vrai Negatif\n",
    "#J'ai réussi à prédire correctement 75% des Non => Vrai Positif\n",
    "#Je n'ai pas réussi à prédire correctement 25% des Oui => Vrai Positif"
   ]
  },
  {
   "cell_type": "code",
   "execution_count": 80,
   "metadata": {},
   "outputs": [
    {
     "name": "stdout",
     "output_type": "stream",
     "text": [
      "oui    64\n",
      "Non     8\n",
      "Name: 0, dtype: int64\n"
     ]
    }
   ],
   "source": [
    "print(pd.DataFrame(y_pred)[0].value_counts())\n",
    "\n",
    "#rajouter des features, tester model, hyperparametre"
   ]
  },
  {
   "cell_type": "code",
   "execution_count": 81,
   "metadata": {},
   "outputs": [
    {
     "data": {
      "text/plain": [
       "oui    51\n",
       "Non    21\n",
       "Name: target_2_boutique_local, dtype: int64"
      ]
     },
     "execution_count": 81,
     "metadata": {},
     "output_type": "execute_result"
    }
   ],
   "source": [
    "y_test.value_counts()"
   ]
  },
  {
   "cell_type": "code",
   "execution_count": 85,
   "metadata": {},
   "outputs": [
    {
     "ename": "AttributeError",
     "evalue": "'Pipeline' object has no attribute 'n_iter_'",
     "output_type": "error",
     "traceback": [
      "\u001b[0;31m---------------------------------------------------------------------------\u001b[0m",
      "\u001b[0;31mAttributeError\u001b[0m                            Traceback (most recent call last)",
      "Cell \u001b[0;32mIn [85], line 1\u001b[0m\n\u001b[0;32m----> 1\u001b[0m model\u001b[39m.\u001b[39mn_iter_\n",
      "\u001b[0;31mAttributeError\u001b[0m: 'Pipeline' object has no attribute 'n_iter_'"
     ]
    }
   ],
   "source": [
    "model.n_iter_"
   ]
  },
  {
   "cell_type": "code",
   "execution_count": 8,
   "metadata": {},
   "outputs": [
    {
     "data": {
      "text/plain": [
       "array(['touriste'], dtype=object)"
      ]
     },
     "execution_count": 8,
     "metadata": {},
     "output_type": "execute_result"
    }
   ],
   "source": [
    "df.client.unique()"
   ]
  },
  {
   "cell_type": "code",
   "execution_count": null,
   "metadata": {},
   "outputs": [],
   "source": []
  }
 ],
 "metadata": {
  "kernelspec": {
   "display_name": "simplon",
   "language": "python",
   "name": "python3"
  },
  "language_info": {
   "codemirror_mode": {
    "name": "ipython",
    "version": 3
   },
   "file_extension": ".py",
   "mimetype": "text/x-python",
   "name": "python",
   "nbconvert_exporter": "python",
   "pygments_lexer": "ipython3",
   "version": "3.8.12 (default, Sep 28 2022, 15:55:27) \n[Clang 10.0.1 (clang-1001.0.46.4)]"
  },
  "orig_nbformat": 4,
  "vscode": {
   "interpreter": {
    "hash": "5ffc3325ec5109096cbaad909e2c7efe120797c08b76aeb49d9e3349cd32bd2b"
   }
  }
 },
 "nbformat": 4,
 "nbformat_minor": 2
}
